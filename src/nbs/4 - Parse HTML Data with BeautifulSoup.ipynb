{
 "cells": [
  {
   "cell_type": "code",
   "execution_count": 63,
   "id": "439ab9a8-51cf-4591-836a-0cbbac9ff3d6",
   "metadata": {},
   "outputs": [],
   "source": [
    "import setup\n",
    "setup.init_django(project_name='cfehome')"
   ]
  },
  {
   "cell_type": "code",
   "execution_count": 64,
   "id": "5e6b875f-38aa-43d1-8bf6-2f51deb88170",
   "metadata": {},
   "outputs": [],
   "source": [
    "url = \"https://www.amazon.com/PlayStation%C2%AE5-Digital-slim-PlayStation-5/dp/B0CL5KNB9M/ref=sr_1_3?crid=B7GWFZXZ2OED&dib=eyJ2IjoiMSJ9.kgp6If9Ie8zGHwBo-0htBLyQbbKjs5VuqpcJV5opH4mRqQT9y1GDUhgEGC4Ze5c7iOpklu5U3l_vF3hGTmGfZf8jvVY7cSGvtmhRbSth2-wUchP4cPB4bCopxZnBPpqLbX4wU-JZkepl_i4fGdXQJXUMLc256FqdCdlbjr6ZMyFHhWIJq2G38fcfQx3z9RS1e48jNXaYXv1rWtJ3Y30-OZP-ckGz15zF5vR6k6z6G6c.HDrf64xu0Nz7DYLZvUdGglWizRZpAXBxsxbsgsW26Tc&dib_tag=se&keywords=ps5&qid=1709675943&sprefix=ps5%2Caps%2C190&sr=8-3\""
   ]
  },
  {
   "cell_type": "code",
   "execution_count": 65,
   "id": "251aa699-5c55-4d25-a617-1d43047cfe5d",
   "metadata": {},
   "outputs": [],
   "source": [
    "url = \"https://www.amazon.com/Microsoft-RRT-00001-Xbox-Enhanced-Protection-X/dp/B0CMFGD9C4/ref=sr_1_3?crid=O4D5MCNRPHZG&dib=eyJ2IjoiMSJ9.BesESVeGKfCLfmoE_Vj2bHkyIqHkjt6vWY83koTZ_cz2I8dLY4__kVTkLkSzkH-tXhAxpP2gQNyM5eVeTcHhvxw10QXkh4Y_4mErHWUhqbSt9lrSfOO_-FmaAKtnyeF8iomBtkjnfyUknCfgCkCLPUr4uTyEnz5WtXbXQI-WN6fXgPPlvAdJXHHZEW4PuI3no5Em_YuyrBMW5_lEcEiUTpPXfdpztJ9ofmYYPF6l8WI.dg-z2b_4ANwk_S5W2m6JFCSScCDS2b3idQV1r-yQOWQ&dib_tag=se&keywords=xbox+series+x&qid=1709681924&sprefix=xbox%2Caps%2C264&sr=8-3\""
   ]
  },
  {
   "cell_type": "code",
   "execution_count": 66,
   "id": "f5db35da-6859-42ef-b5fe-81c55bc89bfa",
   "metadata": {},
   "outputs": [],
   "source": [
    "\n",
    "import helpers"
   ]
  },
  {
   "cell_type": "code",
   "execution_count": 67,
   "id": "fadd2521-984e-41af-b5ce-0206c9dbcaca",
   "metadata": {},
   "outputs": [
    {
     "name": "stdout",
     "output_type": "stream",
     "text": [
      "Connecting to Scraping Browser...\n",
      "Connected! Navigating to https://www.amazon.com/Microsoft-RRT-00001-Xbox-Enhanced-Protection-X/dp/B0CMFGD9C4/ref=sr_1_3?crid=O4D5MCNRPHZG&dib=eyJ2IjoiMSJ9.BesESVeGKfCLfmoE_Vj2bHkyIqHkjt6vWY83koTZ_cz2I8dLY4__kVTkLkSzkH-tXhAxpP2gQNyM5eVeTcHhvxw10QXkh4Y_4mErHWUhqbSt9lrSfOO_-FmaAKtnyeF8iomBtkjnfyUknCfgCkCLPUr4uTyEnz5WtXbXQI-WN6fXgPPlvAdJXHHZEW4PuI3no5Em_YuyrBMW5_lEcEiUTpPXfdpztJ9ofmYYPF6l8WI.dg-z2b_4ANwk_S5W2m6JFCSScCDS2b3idQV1r-yQOWQ&dib_tag=se&keywords=xbox+series+x&qid=1709681924&sprefix=xbox%2Caps%2C264&sr=8-3\n",
      "Navigated! Scraping page content...\n"
     ]
    }
   ],
   "source": [
    "html = helpers.scrape(url=url)"
   ]
  },
  {
   "cell_type": "code",
   "execution_count": 68,
   "id": "346d4e92-b6ec-4101-848b-8b77af70b2dd",
   "metadata": {},
   "outputs": [],
   "source": [
    "from bs4 import BeautifulSoup"
   ]
  },
  {
   "cell_type": "code",
   "execution_count": 69,
   "id": "f9461659-a112-40f5-947f-a95c5002fec1",
   "metadata": {},
   "outputs": [],
   "source": [
    "soup = BeautifulSoup(html)"
   ]
  },
  {
   "cell_type": "markdown",
   "id": "0d436797-3317-4a4b-ad0c-61d5355e4bcf",
   "metadata": {},
   "source": [
    "```html\n",
    "<span id=\"productTitle\" class=\"a-size-large product-title-word-break\">        \n",
    "    PlayStation®5 Digital Edition (slim)       \n",
    "</span>\n",
    "\n",
    "<div id=\"titleSection\" class=\"a-section a-spacing-none\"> \n",
    "    <h1 id=\"title\" class=\"a-size-large a-spacing-none\">\n",
    "        <span id=\"productTitle\" class=\"a-size-large product-title-word-break\">        PlayStation®5 Digital Edition (slim)       </span>  \n",
    "    </h1> \n",
    "    <div id=\"expandTitleToggle\" class=\"a-section a-spacing-none expand aok-hidden\"></div>  \n",
    "</div>\n",
    "```"
   ]
  },
  {
   "cell_type": "code",
   "execution_count": 70,
   "id": "b20623ab-099e-402f-adbb-51d46e2abfff",
   "metadata": {},
   "outputs": [
    {
     "data": {
      "text/plain": [
       "'Microsoft RRT-00001 Xbox Series X 1TB SSD Bundle with 2 YR CPS Enhanced Protection Pack'"
      ]
     },
     "execution_count": 70,
     "metadata": {},
     "output_type": "execute_result"
    }
   ],
   "source": [
    "productTitle = soup.find('span', id='productTitle')\n",
    "productTitleText = f\"{productTitle.text}\".strip()\n",
    "productTitleText"
   ]
  },
  {
   "cell_type": "markdown",
   "id": "a38928b6-ee4a-4bf1-a706-94249f103712",
   "metadata": {},
   "source": [
    "```html\n",
    "<span class=\"a-price-whole\">449<span class=\"a-price-decimal\">.</span></span>\n",
    "```"
   ]
  },
  {
   "cell_type": "code",
   "execution_count": null,
   "id": "40ba7cf5-74ab-4f40-a661-eb2098263435",
   "metadata": {},
   "outputs": [],
   "source": []
  },
  {
   "cell_type": "code",
   "execution_count": 71,
   "id": "4839ac54-5962-42c3-af3a-203eca77420e",
   "metadata": {},
   "outputs": [
    {
     "data": {
      "text/plain": [
       "481.0"
      ]
     },
     "execution_count": 71,
     "metadata": {},
     "output_type": "execute_result"
    }
   ],
   "source": [
    "productPrice = soup.find_all('span', class_='a-price-whole')[0]\n",
    "productPrice\n",
    "productPriceText = \"\".join([x for x in f\"{productPrice.text}\".strip() if x.isdigit() or x == '.'])\n",
    "productPriceNum = float(productPriceText)\n",
    "productPriceNum"
   ]
  },
  {
   "cell_type": "code",
   "execution_count": 72,
   "id": "40c32d52-edeb-4924-87aa-b08efe73d838",
   "metadata": {},
   "outputs": [
    {
     "data": {
      "text/plain": [
       "['ASIN',\n",
       " 'Customer Reviews',\n",
       " 'Best Sellers Rank',\n",
       " 'Product Dimensions',\n",
       " 'Item model number',\n",
       " 'Item Weight',\n",
       " 'Manufacturer',\n",
       " 'Date First Available']"
      ]
     },
     "execution_count": 72,
     "metadata": {},
     "output_type": "execute_result"
    }
   ],
   "source": [
    "product_data = soup.find('div', id='prodDetails')\n",
    "table = product_data.find('table')\n",
    "columns = [f\"{x.text}\".strip() for x in table.find_all('th')]\n",
    "columns"
   ]
  },
  {
   "cell_type": "code",
   "execution_count": 73,
   "id": "f6426180-b88d-4be1-8455-c90b73e8bbc1",
   "metadata": {},
   "outputs": [],
   "source": [
    "table_data=[]\n",
    "for i, row in enumerate(table.find_all('tr')):  # [1:] to skip the header row\n",
    "    # Get all cells in the row\n",
    "    cells = row.find_all('td')\n",
    "    # Create a dictionary for the current row, mapping header to cell data\n",
    "    row_data = {columns[i]: f'{cell.text}'.strip() for cell in cells}\n",
    "    # Add the dictionary to your list\n",
    "    table_data.append(row_data)"
   ]
  },
  {
   "cell_type": "code",
   "execution_count": 74,
   "id": "5d3c27ef-4e11-45ea-9b1c-5f6cf6bd8ef0",
   "metadata": {},
   "outputs": [
    {
     "data": {
      "text/plain": [
       "[{'ASIN': 'B0CMFGD9C4'},\n",
       " {'Customer Reviews': '4.5  4.5 out of 5 stars    \\n    48 ratings   \\n\\n\\n 4.5 out of 5 stars'},\n",
       " {'Best Sellers Rank': '#1,892 in Video Games (See Top 100 in Video Games)  #40 in Xbox Accessories  #101 in Xbox Series X & S Accessories'},\n",
       " {'Product Dimensions': '5.9 x 5.9 x 11.9 inches; 9.8 Pounds'},\n",
       " {'Item model number': 'E99MSRRT00001'},\n",
       " {'Item Weight': '9.8 pounds'},\n",
       " {'Manufacturer': 'Microsoft'},\n",
       " {'Date First Available': 'November 3, 2023'}]"
      ]
     },
     "execution_count": 74,
     "metadata": {},
     "output_type": "execute_result"
    }
   ],
   "source": [
    "table_data"
   ]
  },
  {
   "cell_type": "code",
   "execution_count": 75,
   "id": "48c9c6b6-d419-4d6a-97b2-b0e1ee37f726",
   "metadata": {},
   "outputs": [
    {
     "data": {
      "text/plain": [
       "['B0CMFGD9C4']"
      ]
     },
     "execution_count": 75,
     "metadata": {},
     "output_type": "execute_result"
    }
   ],
   "source": [
    "elements_with_attribute = soup.find_all(lambda tag: tag.has_attr('data-csa-c-asin'))\n",
    "asins = [x.attrs.get('data-csa-c-asin') for x in elements_with_attribute if x]\n",
    "asins = list(set([x for x in asins if x != \"\"]))\n",
    "asins"
   ]
  },
  {
   "cell_type": "code",
   "execution_count": 76,
   "id": "04209cfe-d944-4f9a-ac75-9246f241a2c8",
   "metadata": {},
   "outputs": [
    {
     "data": {
      "text/plain": [
       "\" \\n The all-new XBOX SERIES X THE FASTEST, MOST POWERFUL XBOX EVER POWER YOUR DREAMS OPTIMIZED FOR SERIES X|S Games built with the Xbox Series X|S development kit showcase significantly reduced load times and stunning visuals at up to 120FPS. GET IT ONCE With Smart Delivery, you can buy a supported game once and always have the best available version for whatever console you play on. GAME ON From future adventures, to current obsessions, to classic titles, thousands of favorites across four generations of Xbox look and play best on Xbox Series X. 12 TFLOPS OF POWER The 12 teraflops of processing power housed in the system on a chip (SOC) work with AMD’s Zen 2 and RDNA 2 architectures to result in worlds that demand a closer look. LOOKS BETTER. PLAYS BETTER. Equipped with AMD’s Zen 2 and RDNA 2 architectures, DirectX ray tracing delivers true-to-life lighting, shadows, and accurate reflections to create dynamic, living worlds. LISTEN, YOU'RE BEING SURROUNDED. 3D Spatial Sound is the next evolution in audio technology, using advanced algorithms to create immersive lifelike worlds that put you at the center of your experience. TRUE 4K GAMING The Xbox Series X delivers sensationally smooth frame rates of up to 120FPS with the visual pop of HDR. Immerse yourself with sharper characters, brighter worlds, and impossible details with true-to-life 4K. From original classics like Halo: Combat Evolved to future favorites like Halo Infinite, every title looks and plays best on the Xbox Series X.  \""
      ]
     },
     "execution_count": 76,
     "metadata": {},
     "output_type": "execute_result"
    }
   ],
   "source": [
    "productDescription = soup.find('div', id='productDescription').text\n",
    "productDescription"
   ]
  },
  {
   "cell_type": "code",
   "execution_count": 77,
   "id": "175c12e0-cbb8-4725-982a-09f19ef679fc",
   "metadata": {},
   "outputs": [
    {
     "data": {
      "text/plain": [
       "' \\n About this item    Microsoft Xbox Series X 1TB SSD    True 4K gaming | Up to 120 frames per second    8K High Dynamic Range | Xbox Velocity Architecture    IN THE BOX: Microsoft Xbox Series X 1TB SSD - Carbon Black Xbox wireless controller - Ultra high speed HDMI cable - Power cable - Quick start guide    INCLUDED IN THE BUNDLE: 2 Year Premium Extended Service Protection Plan | Deco Gear Microfiber Cleaning Cloth    2 Year Premium Extended Service Protection Plan    \\n'"
      ]
     },
     "execution_count": 77,
     "metadata": {},
     "output_type": "execute_result"
    }
   ],
   "source": [
    "featureBullets = soup.find('div', id='feature-bullets').text\n",
    "featureBullets"
   ]
  },
  {
   "cell_type": "code",
   "execution_count": 78,
   "id": "7af4a3ff-a358-45ac-a29b-47e980975ac0",
   "metadata": {},
   "outputs": [
    {
     "data": {
      "text/plain": [
       "4.5"
      ]
     },
     "execution_count": 78,
     "metadata": {},
     "output_type": "execute_result"
    }
   ],
   "source": [
    "average_rating = soup.find(id='averageCustomerReviews').find_all(\"span\", class_='a-size-base')[0].text.strip()\n",
    "average_rating = \"\".join([x for x in f\"{average_rating}\".strip() if x.isdigit() or x == '.'])\n",
    "average_rating = float(average_rating)\n",
    "average_rating"
   ]
  },
  {
   "cell_type": "code",
   "execution_count": 79,
   "id": "0e17ef25-c190-48de-a9d6-0879f7bb053c",
   "metadata": {},
   "outputs": [
    {
     "data": {
      "text/plain": [
       "48"
      ]
     },
     "execution_count": 79,
     "metadata": {},
     "output_type": "execute_result"
    }
   ],
   "source": [
    "rating_data = soup.find(id='acrCustomerReviewText').text\n",
    "rating_count = int(''.join([x for x in rating_data if x.isdigit()]))\n",
    "rating_count"
   ]
  },
  {
   "cell_type": "code",
   "execution_count": null,
   "id": "708ac4c2-ea29-4100-8d51-8dc7c0a96fcd",
   "metadata": {},
   "outputs": [],
   "source": []
  },
  {
   "cell_type": "code",
   "execution_count": null,
   "id": "10e4f2d5-4e87-47c4-a3be-793537b8255f",
   "metadata": {},
   "outputs": [],
   "source": []
  }
 ],
 "metadata": {
  "kernelspec": {
   "display_name": "Python 3 (ipykernel)",
   "language": "python",
   "name": "python3"
  },
  "language_info": {
   "codemirror_mode": {
    "name": "ipython",
    "version": 3
   },
   "file_extension": ".py",
   "mimetype": "text/x-python",
   "name": "python",
   "nbconvert_exporter": "python",
   "pygments_lexer": "ipython3",
   "version": "3.11.4"
  }
 },
 "nbformat": 4,
 "nbformat_minor": 5
}
