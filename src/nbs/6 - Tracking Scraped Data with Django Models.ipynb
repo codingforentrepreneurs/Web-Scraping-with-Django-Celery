{
 "cells": [
  {
   "cell_type": "code",
   "execution_count": 1,
   "id": "a18d1078-d317-44cd-a6f9-01641a439cd8",
   "metadata": {},
   "outputs": [],
   "source": [
    "import setup\n",
    "setup.init_django(project_name='cfehome')"
   ]
  },
  {
   "cell_type": "code",
   "execution_count": 14,
   "id": "d5ab0966-17a0-4f8d-8b67-1344a19ab0a1",
   "metadata": {},
   "outputs": [],
   "source": [
    "import helpers\n",
    "from products.models import ProductScrapeEvent, Product"
   ]
  },
  {
   "cell_type": "code",
   "execution_count": 3,
   "id": "93cd08b1-8d07-4f1a-9cad-69d2f8e3d35b",
   "metadata": {},
   "outputs": [],
   "source": [
    "url = \"https://www.amazon.com/PlayStation%C2%AE5-Digital-slim-PlayStation-5/dp/B0CL5KNB9M/ref=sr_1_3?crid=B7GWFZXZ2OED&dib=eyJ2IjoiMSJ9.kgp6If9Ie8zGHwBo-0htBLyQbbKjs5VuqpcJV5opH4mRqQT9y1GDUhgEGC4Ze5c7iOpklu5U3l_vF3hGTmGfZf8jvVY7cSGvtmhRbSth2-wUchP4cPB4bCopxZnBPpqLbX4wU-JZkepl_i4fGdXQJXUMLc256FqdCdlbjr6ZMyFHhWIJq2G38fcfQx3z9RS1e48jNXaYXv1rWtJ3Y30-OZP-ckGz15zF5vR6k6z6G6c.HDrf64xu0Nz7DYLZvUdGglWizRZpAXBxsxbsgsW26Tc&dib_tag=se&keywords=ps5&qid=1709675943&sprefix=ps5%2Caps%2C190&sr=8-3\""
   ]
  },
  {
   "cell_type": "code",
   "execution_count": 4,
   "id": "b553ebdd-b86e-4475-8506-2723ef108ce4",
   "metadata": {},
   "outputs": [
    {
     "name": "stdout",
     "output_type": "stream",
     "text": [
      "Connecting to Scraping Browser...\n",
      "Connected! Navigating to https://www.amazon.com/PlayStation%C2%AE5-Digital-slim-PlayStation-5/dp/B0CL5KNB9M/ref=sr_1_3\n",
      "Navigated! Scraping page content...\n"
     ]
    }
   ],
   "source": [
    "html = helpers.scrape(url=url, solve_captcha=False)\n",
    "data = helpers.extract_amazon_product_data(html)"
   ]
  },
  {
   "cell_type": "code",
   "execution_count": 5,
   "id": "d4d892e4-cb4e-400f-9e81-1caecf6e46b8",
   "metadata": {},
   "outputs": [
    {
     "data": {
      "text/plain": [
       "{'asin': 'B0CL5KNB9M',\n",
       " 'title': 'PlayStation®5 Digital Edition (slim)',\n",
       " 'price_raw': '449.',\n",
       " 'price_text': '449.',\n",
       " 'price': 449.0,\n",
       " 'metadata': [{'ASIN': 'B0CL5KNB9M'},\n",
       "  {'Release date': 'November 24, 2023'},\n",
       "  {'Customer Reviews': '4.7  4.7 out of 5 stars    \\n    3,538 ratings   \\n\\n\\n 4.7 out of 5 stars'},\n",
       "  {'Best Sellers Rank': '#216 in Video Games (See Top 100 in Video Games)  #2 in PlayStation 5 Consoles'},\n",
       "  {'Product Dimensions': '17 x 15 x 6 inches; 8.9 Pounds'},\n",
       "  {'Type of item': 'Video Game'},\n",
       "  {'Item model number': 'CFI-2000'},\n",
       "  {'Item Weight': '8.9 pounds'},\n",
       "  {'Manufacturer': 'Sony'},\n",
       "  {'Country of Origin': 'China'},\n",
       "  {'Batteries': '1 Lithium Ion batteries required. (included)'},\n",
       "  {'Date First Available': 'November 24, 2023'}],\n",
       " 'description': ' \\n Play Like Never Before. The PS5 Digital Edition unleashes new gaming possibilities that you never anticipated. Experience lightning fast loading with an ultra-high speed SSD, deeper immersion with support for haptic feedback, adaptive triggers, and 3D Audio*,and an all-new generation of incredible PlayStation® games. PS5 Digital Edition is an all-digital version of the PS5 console with no disc drive. Sign into your account for PlayStation Network and go to PlayStation Store to buy and download games (Account for PlayStation Network required). Lightning Speed - Harness the power of a custom CPU, GPU, and SSD with Integrated I/O that rewrite the rules of what a PlayStation console can do. Stunning Games - Marvel at incredible graphics and experience new PS5 features. Play a back catalog of supported PS4 games. Breathtaking Immersion - Discover a deeper gaming experience with support for haptic feedback, adaptive triggers, and 3D Audio technology. *3D audio via built-in TV speakers or analog/USB stereo headphones. Set up and latest system software update required.  ',\n",
       " 'feature_bullets': ' \\n About this item    Model Number CFI-2000    Includes DualSense Wireless Controller, 1TB SSD, 2 Horizontal Stand Feet, HDMI Cable, AC power cord, USB cable, printed materials, ASTRO’s PLAYROOM (Pre-installed game)    Vertical Stand sold seperately    \\n',\n",
       " 'rating': {'average': 4.7, 'count': 3538}}"
      ]
     },
     "execution_count": 5,
     "metadata": {},
     "output_type": "execute_result"
    }
   ],
   "source": [
    "data"
   ]
  },
  {
   "cell_type": "code",
   "execution_count": 12,
   "id": "7cf48a33-91d7-4afb-8e7f-f32c65a6ef95",
   "metadata": {},
   "outputs": [
    {
     "data": {
      "text/plain": [
       "<ProductScrapeEvent: ProductScrapeEvent object (4)>"
      ]
     },
     "execution_count": 12,
     "metadata": {},
     "output_type": "execute_result"
    }
   ],
   "source": [
    "ProductScrapeEvent.objects.create_scrape_event(data, url=url)"
   ]
  },
  {
   "cell_type": "code",
   "execution_count": 13,
   "id": "68591fc9-1be3-4219-8fc9-d3f3e98fb99c",
   "metadata": {},
   "outputs": [
    {
     "data": {
      "text/plain": [
       "<QuerySet [<ProductScrapeEvent: ProductScrapeEvent object (1)>, <ProductScrapeEvent: ProductScrapeEvent object (2)>, <ProductScrapeEvent: ProductScrapeEvent object (3)>, <ProductScrapeEvent: ProductScrapeEvent object (4)>]>"
      ]
     },
     "execution_count": 13,
     "metadata": {},
     "output_type": "execute_result"
    }
   ],
   "source": [
    "qs = ProductScrapeEvent.objects.all()\n",
    "qs"
   ]
  },
  {
   "cell_type": "code",
   "execution_count": 16,
   "id": "3dbffe27-bf93-4a72-9a3b-60efe3d3c075",
   "metadata": {},
   "outputs": [
    {
     "data": {
      "text/plain": [
       "<QuerySet [<Product: Product object (1)>]>"
      ]
     },
     "execution_count": 16,
     "metadata": {},
     "output_type": "execute_result"
    }
   ],
   "source": [
    "product_qs = Product.objects.all()\n",
    "product_qs"
   ]
  },
  {
   "cell_type": "code",
   "execution_count": null,
   "id": "c4379de2-ed36-4a62-9a2b-1a7a3404773b",
   "metadata": {},
   "outputs": [],
   "source": []
  }
 ],
 "metadata": {
  "kernelspec": {
   "display_name": "Python 3 (ipykernel)",
   "language": "python",
   "name": "python3"
  },
  "language_info": {
   "codemirror_mode": {
    "name": "ipython",
    "version": 3
   },
   "file_extension": ".py",
   "mimetype": "text/x-python",
   "name": "python",
   "nbconvert_exporter": "python",
   "pygments_lexer": "ipython3",
   "version": "3.11.4"
  }
 },
 "nbformat": 4,
 "nbformat_minor": 5
}
